{
  "nbformat": 4,
  "nbformat_minor": 0,
  "metadata": {
    "kernelspec": {
      "display_name": "Python 3",
      "language": "python",
      "name": "python3"
    },
    "language_info": {
      "codemirror_mode": {
        "name": "ipython",
        "version": 3
      },
      "file_extension": ".py",
      "mimetype": "text/x-python",
      "name": "python",
      "nbconvert_exporter": "python",
      "pygments_lexer": "ipython3",
      "version": "3.6.6"
    },
    "toc": {
      "base_numbering": 1,
      "nav_menu": {},
      "number_sections": true,
      "sideBar": true,
      "skip_h1_title": false,
      "title_cell": "Table of Contents",
      "title_sidebar": "Contents",
      "toc_cell": false,
      "toc_position": {},
      "toc_section_display": true,
      "toc_window_display": false
    },
    "colab": {
      "name": "A1_13065040_Ran Mo_ReportFinal.ipynb - Colaboratory.ipynb",
      "version": "0.3.2",
      "provenance": [],
      "include_colab_link": true
    }
  },
  "cells": [
    {
      "cell_type": "markdown",
      "metadata": {
        "id": "view-in-github",
        "colab_type": "text"
      },
      "source": [
        "<a href=\"https://colab.research.google.com/github/MMoRann/UTS_ML2019_13065040/blob/master/A1_13065040_Ran_Mo_ReportFinal_ipynb_Colaboratory.ipynb\" target=\"_parent\"><img src=\"https://colab.research.google.com/assets/colab-badge.svg\" alt=\"Open In Colab\"/></a>"
      ]
    },
    {
      "cell_type": "markdown",
      "metadata": {
        "id": "2jxG8v6aMAQX",
        "colab_type": "text"
      },
      "source": [
        "# Draft and Experiment Area"
      ]
    },
    {
      "cell_type": "markdown",
      "metadata": {
        "id": "30isNHxMMAQZ",
        "colab_type": "text"
      },
      "source": [
        "  1 First impression\n",
        "  * What is my chosen paper to read?\n",
        "\n",
        "Eigenfaces Vs. Fisherfaces: Recognition Using Class Specific Linear Projection\n",
        "\n",
        "  * What type of the main contribution the paper has made?\n",
        "\n",
        "A method or algorithm (inventing a technique, from undoable to doable)\n",
        " \n",
        "  * _Before_ reading the main body of the paper, write down your first impression obtained from its abstract and short introduction.\n",
        "\n",
        "After reading the abstract, I think the topic is very practical and interesting. The large variation in lighting direction and facial expression is a very common but important difficulty when we do face recognition. Besides, this difficulty can higher the error rate and restrict the application of face recognition technique. This paper develops a new approach based on Fisher’s Linear Discriminant which can relieve this problem.\n",
        " \n",
        "  * Why does the paper attract you, such as, How it surprised you? Why do you think it addresses an important topic that will be helpful in your future study of machine learning?\n",
        "\n",
        "Because this paper addresses a very common but challenging issue in the face recognition field. Variation in lighting direction and facial expression are two unavoidable barriers if we want to expand the application of face recognition techniques. This paper develops a new method, Fisherface, to lower the influences of these concerns. Therefore, this paper helps us to be creative and learn to develop new approach when we encounter difficulties in the research.\n",
        "\n",
        "  2 Read the paper abstract and introduction, list here all the notions that you don't know the precise meaning. If you think you have completed your list,  compare the list with people around you who have chosen the same or a similar paper.\n",
        "\n",
        "Lambertian surface; Fisher’s Linear Discriminant(FLD); principal components analysis(PCA); taxonomic classification; polar quantization; Most Discriminating Fearture(MDF); VLSI hardware; Luxolamp;\n",
        "\n",
        "  3 (During the next 7 days) Re-consider the central problem of the paper.\n",
        "\n",
        "This paper really makes a great contribution to the expansion of face recognition. It compares four methods, correlation, Eigenfaces, Linear Subspaces and Fisherfaces by using two small size databases. Given the variation in lighting, facial expression and recognition of glasses, this paper concludes that the Fisherface method could get the best performance.\n"
      ]
    },
    {
      "cell_type": "markdown",
      "metadata": {
        "id": "sSFy0FTlMAQa",
        "colab_type": "text"
      },
      "source": [
        "# Review Report on \"PaperName\""
      ]
    },
    {
      "cell_type": "markdown",
      "metadata": {
        "id": "sdo8NVjpMAQb",
        "colab_type": "text"
      },
      "source": [
        "## Introduction"
      ]
    },
    {
      "cell_type": "markdown",
      "metadata": {
        "id": "u0HbUI5eMAQc",
        "colab_type": "text"
      },
      "source": [
        "## Content"
      ]
    },
    {
      "cell_type": "markdown",
      "metadata": {
        "id": "KnTPlOK7MAQd",
        "colab_type": "text"
      },
      "source": [
        "The research is about the face recognition algorithm, Fisherfaces. This algorithm is not sensitive to variation in lighting and facial expression, which can provide much lower error rates than Eigenface technique. In the past years, academics have proposed several methods for face recognition. However, there is a lack of reliable techniques which are insensitive to variations of facial expression, lighting and pose status. Therefore, the error rates of these algorithms are very high under extreme environment. To solve this problem, this paper develops a new algorithm for face recognition. \n",
        "\n",
        "Specifically, this paper finds a face linear projection method from the high-dimensional space to a lower dimensional space to prevent the intervention from variation in lighting direction and facial expression. This paper compares the performance of four face recognition algorithms, namely correlation, similar to the linear subspace method (Shashua, 1992), the Eigenface method (Sirovitch and Kirby, 1987; Turk and Pentland, 1991), and the Fisherface method proposed by this paper. Using both the Harvard Database containing 330 images (Hallinan, 1994 & 1995) and a Yale database including 160 images. The result showed that the Fisherface method had better performance than any of the other three methods. \n",
        "\n",
        "Given the experiments, this paper offers following conclusions:\n",
        "\n",
        "1) If a similar image presents in the training dataset, all algorithms have a good performance.\n",
        "\n",
        "2) The Fisherface algorithm is the best one at extrapolating and interpolating over variation in lighting. The Linear Subspace method is the second.\n",
        "\n",
        "3) This paper improves the performance of The Eigenface algorithm by removing the largest three principal components.\n",
        "\n",
        "4) The performance of the Eigenface algorithm turns to that of correlation in the limits as the number of principal components used increases. However, 45 principal components are the peak number for the increase. After that, the performance would decrease.\n",
        "\n",
        "5) Among these four algorithms, the Fisherface method performs best in the simulated experiment. Meanwhile, the Linear Subspace algorithm performs worst."
      ]
    },
    {
      "cell_type": "markdown",
      "metadata": {
        "id": "ry8JSW2VMAQe",
        "colab_type": "text"
      },
      "source": [
        "## Innovation"
      ]
    },
    {
      "cell_type": "markdown",
      "metadata": {
        "id": "WIKEcX6hMAQe",
        "colab_type": "text"
      },
      "source": [
        "This paper creatively develops a new algorithm which can deal with lighting and facial expression concerns. In the past, there are a lot of face recognition algorithms have been proposed, such as works reported by Bledsoe (1964), Statistical Approach (Turk and Pentland, 1991) and Neural Networks Approach (Kohonen, 1998). Contrary to the abundant literatures in face recognition field handling small variations in pose, lighting and facial expression, none of techniques can provide reliable performance under extreme variations. To fill up this gap, this paper develops a new face recognition algorithm to handle large variations in lighting and facial expressions. Notably, lighting variability is complex concept, including intensity, direction and number of light sources. The same person keeping other factors, such as facial expression and viewpoint constant, can look dramatically different if the lighting directions differ.\n",
        "\n",
        "Specifically, this paper exploits two observations:\n",
        "\n",
        "1) Lambertian surface with a fixed viewpoint, but various lighting direction in a 3D linear subspace.\n",
        "\n",
        "2) The regions of specularities, shadowing, and expressions make the observations hard to hold exactly. Actually, different images may have variability for the same regions of the same face causing less reliable recognition.\n",
        "\n",
        "In terms of the commercial and law enforcement applications of face recognition techniques ranging form credit card, driver’s license, passport and personal identification to crowd surveillance, there are a bunch of challenges, including matching, similarity detection and transformation. Variation in lighting and facial expression is the issue that we can never dodge. So, this paper makes a big progress in face recognition field by innovatively creating a new approach using a linear projection of the faces, in other words, from high-dimensional image space to a lower dimensional feature space."
      ]
    },
    {
      "cell_type": "markdown",
      "metadata": {
        "id": "yPKtm-UlMAQf",
        "colab_type": "text"
      },
      "source": [
        "## Technical quality"
      ]
    },
    {
      "cell_type": "markdown",
      "metadata": {
        "id": "fJJx1HCBMAQg",
        "colab_type": "text"
      },
      "source": [
        "The experiment details are shown below:\n",
        "\n",
        "Training dataset: labeled images with the identity of person.\n",
        "\n",
        "Testing dataset: unlabeled set of images from the same people as the training dataset.\n",
        "\n",
        "The goal is the get a model using the training dataset to do face recognition and predict the identity of observations in the testing dataset. Comparing four different methods, correlation, Eigenface, Linear subspace and Fisherface methods developed by the authors. \n",
        "\n",
        "Hypothesis: If the face recognition methods project the image of Lambertian surface to a linear subspace, they would have a better performance. \n",
        "\n",
        "Data source: \n",
        "1) Image database by Hallinan at the Harvard Robotics Laboratory (Hallinan, 1994 and 1995). \n",
        "\n",
        "In this dataset, each picture only presents the head of people while illuminated by a dominant light source. We can parameterize the space of light source directions using spherical angles. Besides, the space of light source directions was sample in 15$ increments. This paper used 330 images of five people. \n",
        "\n",
        "2) Database at the Yale Center for Computational Vision and Control, this paper test four methods under different conditions. For instance, subjects have males and females, and some of them wore glasses while some did not.\n"
      ]
    },
    {
      "cell_type": "markdown",
      "metadata": {
        "id": "b1HLO5wXMAQh",
        "colab_type": "text"
      },
      "source": [
        "## Application and X-factor"
      ]
    },
    {
      "cell_type": "markdown",
      "metadata": {
        "id": "JL-GSsULMAQi",
        "colab_type": "text"
      },
      "source": [
        "Face recognition can be applied to many businesses areas, including granting access, verifying payments and improving security systems. Specifically,\n",
        "\n",
        "1) Payments\n",
        "\n",
        "We can use physical appearances to verify our payments. For instance, MasterCard Identity Check, provided by MasterCard, is the application of face recognition payment method. We can camera on our mobile phone to confirm the payment. Besides, Alibaba, a giant in mobile payment in China, already apply face recognition techniques into its payment software, Alipay.\n",
        "\n",
        "2) Access and security\n",
        "\n",
        "In the past, we had to use passcodes to get access to your device, such as mobile phone, tablet and laptop. At present, a lot of electronic devices support face recognition method. Customers do not need to remember a lot of complex passwords anymore. You can unlock your device just by looking at it.\n",
        "\n",
        "3) Criminal identification\n",
        "\n",
        "A lot of governments now have a database containing the face image of their citizens. With the help of AI equipped cameras around the country, the government could track the criminals.\n",
        "\n",
        "4) Advertising\n",
        "\n",
        "If the camera can recognize you and know your history, they can deliver the most accurate ads to you. Tesco, the grocery giant, is installing the OptimEyes screens at gas stations in the UK to know you and deliver the ads that attracts you most.\n",
        "\n",
        "There are vast number of potential areas that we can apply face recognition, but how to guarantee the highest accuracy when we match two faces or a face with its corresponding information is the X-factor when we talk about this technique’s application.\n"
      ]
    },
    {
      "cell_type": "markdown",
      "metadata": {
        "id": "TpIEmo78MAQj",
        "colab_type": "text"
      },
      "source": [
        "## Presentation"
      ]
    },
    {
      "cell_type": "markdown",
      "metadata": {
        "id": "RhgVT64rMAQk",
        "colab_type": "text"
      },
      "source": [
        "Basically, the structure of this paper is very clear and simple. I can easily understand the logics and the main viewpoints. First of all, this paper comes up with the difficulties in face recognition algorithms, such as variation in lighting direction, facial expression and pose. Then this paper introduces four methods for face recognition including the new approach this paper develops, about their features, techniques and pros & cons. Additionally, using database from the Harvard Robotics Laboratory in which lighting has been systematically varied. and database at Yale that variation in both facial expression and lighting, this paper compares the performance for each algorithm. Finally, the Fisherface method appears to be the best at simultaneously handling variation in lighting and expression.\n",
        "\n",
        "This paper could have been more interesting if the authors had provided the experiment on dealing with variation in pose, which is a very common and important concern in the face recognition field. It is very hard for people to stay still or do the exact pose every time when they are scanned by the face recognition device. Besides, this paper assumes that the face has been located and aligned within the image. However, under some certain circumstances, we cannot always get a perfect picture. So, how to deal with this problem is a practical topic to explore.\n",
        "\n",
        "Besides, this paper only evaluates the performance of four methods under a relatively small database. How well does the Fisherface method extend to large databases is still an unanswered question. Therefore, if this paper had provided some preliminary result about this aspect, it would have been better."
      ]
    },
    {
      "cell_type": "markdown",
      "metadata": {
        "id": "an1jyXDRMAQl",
        "colab_type": "text"
      },
      "source": [
        "## References\n",
        "\n",
        "[1] Belhumeur, P.N., Hespanha, J.P., Kriegman, D.J.. (1996). “Eigenfaces Vs. Fisherfaces: Recognition Using Class Specific Linear Projection”. IEEE Transactions on Pattern Analysis And Machine Intelligence, 19(7), 711-720.\n",
        "\n",
        "[2] R. Chellappa, C. Wilson, and S. Sirohey, “Human and Machine Recognition of Faces: A Survey,” Proc. IEEE, 83(5), 705-740, 1995.\n",
        "\n",
        "[3]: Laura Cox.(2017) 5 Applications of Facial Recognition Technology. Retrieved July 13, 2017 from https://disruptionhub.com/5-applications-facial-recognition-technology/\n"
      ]
    }
  ]
}