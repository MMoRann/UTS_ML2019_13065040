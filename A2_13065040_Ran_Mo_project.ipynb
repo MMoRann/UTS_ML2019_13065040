{
  "nbformat": 4,
  "nbformat_minor": 0,
  "metadata": {
    "kernelspec": {
      "display_name": "Python 3",
      "language": "python",
      "name": "python3"
    },
    "language_info": {
      "codemirror_mode": {
        "name": "ipython",
        "version": 3
      },
      "file_extension": ".py",
      "mimetype": "text/x-python",
      "name": "python",
      "nbconvert_exporter": "python",
      "pygments_lexer": "ipython3",
      "version": "3.6.6"
    },
    "colab": {
      "name": "A2_13065040_Ran Mo_project.ipynb",
      "provenance": [],
      "collapsed_sections": [],
      "include_colab_link": true
    }
  },
  "cells": [
    {
      "cell_type": "markdown",
      "metadata": {
        "id": "view-in-github",
        "colab_type": "text"
      },
      "source": [
        "<a href=\"https://colab.research.google.com/github/MMoRann/UTS_ML2019_13065040/blob/master/A2_13065040_Ran_Mo_project.ipynb\" target=\"_parent\"><img src=\"https://colab.research.google.com/assets/colab-badge.svg\" alt=\"Open In Colab\"/></a>"
      ]
    },
    {
      "cell_type": "code",
      "metadata": {
        "id": "Lwcilb-oEkOi",
        "colab_type": "code",
        "colab": {}
      },
      "source": [
        "import pandas as pd\n",
        "import numpy as np\n",
        "import random\n",
        "from sklearn.model_selection import train_test_split\n",
        "from sklearn.metrics import accuracy_score, confusion_matrix, auc\n",
        "from sklearn.ensemble import RandomForestClassifier\n",
        "from sklearn.ensemble import BaggingClassifier\n",
        "from sklearn.tree import DecisionTreeClassifier\n",
        "from sklearn import svm\n",
        "from sklearn.linear_model import LogisticRegression\n",
        "import matplotlib.pyplot as plt\n",
        "from sklearn.metrics import roc_curve"
      ],
      "execution_count": 0,
      "outputs": []
    },
    {
      "cell_type": "code",
      "metadata": {
        "id": "R-e8OwWlEkOl",
        "colab_type": "code",
        "outputId": "db47660d-4f37-4353-eb01-d0c1ee1ebf9a",
        "colab": {
          "base_uri": "https://localhost:8080/",
          "height": 55
        }
      },
      "source": [
        "from google.colab import drive\n",
        "drive.mount('/content/drive')\n",
        "data = pd.read_csv('/content/drive/My Drive/Colab Notebooks/CSV/default.csv')\n",
        "data['industry'] = data['industry'].str.replace('Other Services \\(except Public Administration\\)','Other Services')\n",
        "data['industry'] = data['industry'].str.replace('Accomodation','Accommodation')\n",
        "data['industry'] = data['industry'].str.replace('Fishing or Hunting','Fishing and Hunting')\n",
        "data['industry'] = data['industry'].fillna('Other Services')\n",
        "data['industry'] = data['industry'].str.strip()\n",
        "test = data.groupby('industry').size()\n",
        "\n",
        "data = data.dropna(subset=['years_of_operation'], how='any')\n",
        "data = data.dropna(subset=['fico_score'], how='any')\n",
        "data = data[data['fico_score'] != 0]\n",
        "data = data.dropna(subset=['business_employee_count'], how='any')\n",
        "data = data.dropna(subset=['Homeowner'], how='any')\n",
        "\n",
        "data['principal'] = data['principal'].str.replace('$','').str.replace(',','')\n",
        "data['principal'] = data['principal'].astype(int)\n",
        "data = data[data['status'] != 'current']\n",
        "data['status'] = np.where(data['status'] == 'defaulted', 1, 0)"
      ],
      "execution_count": 0,
      "outputs": [
        {
          "output_type": "stream",
          "text": [
            "Drive already mounted at /content/drive; to attempt to forcibly remount, call drive.mount(\"/content/drive\", force_remount=True).\n"
          ],
          "name": "stdout"
        }
      ]
    },
    {
      "cell_type": "code",
      "metadata": {
        "id": "VI49s93cEkOp",
        "colab_type": "code",
        "outputId": "f4f1d05a-457b-4c2f-d04d-e3f057c3bb42",
        "colab": {
          "base_uri": "https://localhost:8080/",
          "height": 309
        }
      },
      "source": [
        "data.head(5)"
      ],
      "execution_count": 0,
      "outputs": [
        {
          "output_type": "execute_result",
          "data": {
            "text/html": [
              "<div>\n",
              "<style scoped>\n",
              "    .dataframe tbody tr th:only-of-type {\n",
              "        vertical-align: middle;\n",
              "    }\n",
              "\n",
              "    .dataframe tbody tr th {\n",
              "        vertical-align: top;\n",
              "    }\n",
              "\n",
              "    .dataframe thead th {\n",
              "        text-align: right;\n",
              "    }\n",
              "</style>\n",
              "<table border=\"1\" class=\"dataframe\">\n",
              "  <thead>\n",
              "    <tr style=\"text-align: right;\">\n",
              "      <th></th>\n",
              "      <th>credit_rating</th>\n",
              "      <th>industry</th>\n",
              "      <th>state</th>\n",
              "      <th>years_of_operation</th>\n",
              "      <th>principal</th>\n",
              "      <th>interest_rate</th>\n",
              "      <th>term</th>\n",
              "      <th>status</th>\n",
              "      <th>fico_score</th>\n",
              "      <th>number_of_guarantors</th>\n",
              "      <th>business_employee_count</th>\n",
              "      <th>high_risk_industry</th>\n",
              "      <th>Broker</th>\n",
              "      <th>Homeowner</th>\n",
              "    </tr>\n",
              "  </thead>\n",
              "  <tbody>\n",
              "    <tr>\n",
              "      <th>198</th>\n",
              "      <td>B</td>\n",
              "      <td>Other Services</td>\n",
              "      <td>CO</td>\n",
              "      <td>3.0</td>\n",
              "      <td>200000</td>\n",
              "      <td>0.1599</td>\n",
              "      <td>48</td>\n",
              "      <td>0</td>\n",
              "      <td>712.0</td>\n",
              "      <td>3</td>\n",
              "      <td>44.0</td>\n",
              "      <td>0</td>\n",
              "      <td>0</td>\n",
              "      <td>1.0</td>\n",
              "    </tr>\n",
              "    <tr>\n",
              "      <th>619</th>\n",
              "      <td>C</td>\n",
              "      <td>Real Estate and Rental and Leasing</td>\n",
              "      <td>TX</td>\n",
              "      <td>2.0</td>\n",
              "      <td>25000</td>\n",
              "      <td>0.1849</td>\n",
              "      <td>36</td>\n",
              "      <td>0</td>\n",
              "      <td>657.0</td>\n",
              "      <td>1</td>\n",
              "      <td>4.0</td>\n",
              "      <td>0</td>\n",
              "      <td>0</td>\n",
              "      <td>1.0</td>\n",
              "    </tr>\n",
              "    <tr>\n",
              "      <th>620</th>\n",
              "      <td>A</td>\n",
              "      <td>Other Services</td>\n",
              "      <td>SC</td>\n",
              "      <td>18.0</td>\n",
              "      <td>75000</td>\n",
              "      <td>0.1124</td>\n",
              "      <td>24</td>\n",
              "      <td>0</td>\n",
              "      <td>821.0</td>\n",
              "      <td>1</td>\n",
              "      <td>5.0</td>\n",
              "      <td>0</td>\n",
              "      <td>0</td>\n",
              "      <td>1.0</td>\n",
              "    </tr>\n",
              "    <tr>\n",
              "      <th>623</th>\n",
              "      <td>C</td>\n",
              "      <td>Transportation and Warehousing</td>\n",
              "      <td>AR</td>\n",
              "      <td>5.0</td>\n",
              "      <td>91000</td>\n",
              "      <td>0.1949</td>\n",
              "      <td>48</td>\n",
              "      <td>0</td>\n",
              "      <td>676.0</td>\n",
              "      <td>2</td>\n",
              "      <td>10.0</td>\n",
              "      <td>1</td>\n",
              "      <td>0</td>\n",
              "      <td>1.0</td>\n",
              "    </tr>\n",
              "    <tr>\n",
              "      <th>630</th>\n",
              "      <td>B</td>\n",
              "      <td>Wholesale Trade</td>\n",
              "      <td>FL</td>\n",
              "      <td>9.0</td>\n",
              "      <td>77312</td>\n",
              "      <td>0.1499</td>\n",
              "      <td>36</td>\n",
              "      <td>0</td>\n",
              "      <td>647.0</td>\n",
              "      <td>1</td>\n",
              "      <td>3.0</td>\n",
              "      <td>1</td>\n",
              "      <td>0</td>\n",
              "      <td>1.0</td>\n",
              "    </tr>\n",
              "  </tbody>\n",
              "</table>\n",
              "</div>"
            ],
            "text/plain": [
              "    credit_rating                            industry  ... Broker  Homeowner\n",
              "198             B                      Other Services  ...      0        1.0\n",
              "619             C  Real Estate and Rental and Leasing  ...      0        1.0\n",
              "620             A                      Other Services  ...      0        1.0\n",
              "623             C      Transportation and Warehousing  ...      0        1.0\n",
              "630             B                     Wholesale Trade  ...      0        1.0\n",
              "\n",
              "[5 rows x 14 columns]"
            ]
          },
          "metadata": {
            "tags": []
          },
          "execution_count": 11
        }
      ]
    },
    {
      "cell_type": "code",
      "metadata": {
        "id": "sfyiXAACEkOr",
        "colab_type": "code",
        "outputId": "375cb986-336b-4a16-ab12-9286b3ebfadc",
        "colab": {
          "base_uri": "https://localhost:8080/",
          "height": 317
        }
      },
      "source": [
        "#Descriptive Statistics\n",
        "data.describe()"
      ],
      "execution_count": 0,
      "outputs": [
        {
          "output_type": "execute_result",
          "data": {
            "text/html": [
              "<div>\n",
              "<style scoped>\n",
              "    .dataframe tbody tr th:only-of-type {\n",
              "        vertical-align: middle;\n",
              "    }\n",
              "\n",
              "    .dataframe tbody tr th {\n",
              "        vertical-align: top;\n",
              "    }\n",
              "\n",
              "    .dataframe thead th {\n",
              "        text-align: right;\n",
              "    }\n",
              "</style>\n",
              "<table border=\"1\" class=\"dataframe\">\n",
              "  <thead>\n",
              "    <tr style=\"text-align: right;\">\n",
              "      <th></th>\n",
              "      <th>years_of_operation</th>\n",
              "      <th>principal</th>\n",
              "      <th>interest_rate</th>\n",
              "      <th>term</th>\n",
              "      <th>status</th>\n",
              "      <th>fico_score</th>\n",
              "      <th>number_of_guarantors</th>\n",
              "      <th>business_employee_count</th>\n",
              "      <th>high_risk_industry</th>\n",
              "      <th>Broker</th>\n",
              "      <th>Homeowner</th>\n",
              "    </tr>\n",
              "  </thead>\n",
              "  <tbody>\n",
              "    <tr>\n",
              "      <th>count</th>\n",
              "      <td>4709.000000</td>\n",
              "      <td>4709.000000</td>\n",
              "      <td>4709.000000</td>\n",
              "      <td>4709.000000</td>\n",
              "      <td>4709.000000</td>\n",
              "      <td>4709.000000</td>\n",
              "      <td>4709.000000</td>\n",
              "      <td>4709.000000</td>\n",
              "      <td>4709.000000</td>\n",
              "      <td>4709.000000</td>\n",
              "      <td>4709.000000</td>\n",
              "    </tr>\n",
              "    <tr>\n",
              "      <th>mean</th>\n",
              "      <td>10.649529</td>\n",
              "      <td>138240.356764</td>\n",
              "      <td>0.141907</td>\n",
              "      <td>40.885114</td>\n",
              "      <td>0.086855</td>\n",
              "      <td>706.117222</td>\n",
              "      <td>1.323636</td>\n",
              "      <td>14.522192</td>\n",
              "      <td>0.137184</td>\n",
              "      <td>0.305585</td>\n",
              "      <td>0.816946</td>\n",
              "    </tr>\n",
              "    <tr>\n",
              "      <th>std</th>\n",
              "      <td>7.991417</td>\n",
              "      <td>104803.995393</td>\n",
              "      <td>0.044720</td>\n",
              "      <td>14.908321</td>\n",
              "      <td>0.281652</td>\n",
              "      <td>44.579855</td>\n",
              "      <td>0.536434</td>\n",
              "      <td>53.189329</td>\n",
              "      <td>0.344078</td>\n",
              "      <td>0.460704</td>\n",
              "      <td>0.386752</td>\n",
              "    </tr>\n",
              "    <tr>\n",
              "      <th>min</th>\n",
              "      <td>0.000000</td>\n",
              "      <td>25000.000000</td>\n",
              "      <td>0.049900</td>\n",
              "      <td>6.000000</td>\n",
              "      <td>0.000000</td>\n",
              "      <td>604.000000</td>\n",
              "      <td>1.000000</td>\n",
              "      <td>0.000000</td>\n",
              "      <td>0.000000</td>\n",
              "      <td>0.000000</td>\n",
              "      <td>0.000000</td>\n",
              "    </tr>\n",
              "    <tr>\n",
              "      <th>25%</th>\n",
              "      <td>5.000000</td>\n",
              "      <td>60000.000000</td>\n",
              "      <td>0.111900</td>\n",
              "      <td>36.000000</td>\n",
              "      <td>0.000000</td>\n",
              "      <td>672.000000</td>\n",
              "      <td>1.000000</td>\n",
              "      <td>4.000000</td>\n",
              "      <td>0.000000</td>\n",
              "      <td>0.000000</td>\n",
              "      <td>1.000000</td>\n",
              "    </tr>\n",
              "    <tr>\n",
              "      <th>50%</th>\n",
              "      <td>8.600000</td>\n",
              "      <td>100000.000000</td>\n",
              "      <td>0.139900</td>\n",
              "      <td>36.000000</td>\n",
              "      <td>0.000000</td>\n",
              "      <td>703.000000</td>\n",
              "      <td>1.000000</td>\n",
              "      <td>7.000000</td>\n",
              "      <td>0.000000</td>\n",
              "      <td>0.000000</td>\n",
              "      <td>1.000000</td>\n",
              "    </tr>\n",
              "    <tr>\n",
              "      <th>75%</th>\n",
              "      <td>13.800000</td>\n",
              "      <td>200000.000000</td>\n",
              "      <td>0.162900</td>\n",
              "      <td>60.000000</td>\n",
              "      <td>0.000000</td>\n",
              "      <td>738.000000</td>\n",
              "      <td>2.000000</td>\n",
              "      <td>14.000000</td>\n",
              "      <td>0.000000</td>\n",
              "      <td>1.000000</td>\n",
              "      <td>1.000000</td>\n",
              "    </tr>\n",
              "    <tr>\n",
              "      <th>max</th>\n",
              "      <td>67.000000</td>\n",
              "      <td>500000.000000</td>\n",
              "      <td>0.287900</td>\n",
              "      <td>60.000000</td>\n",
              "      <td>1.000000</td>\n",
              "      <td>843.000000</td>\n",
              "      <td>6.000000</td>\n",
              "      <td>2000.000000</td>\n",
              "      <td>1.000000</td>\n",
              "      <td>1.000000</td>\n",
              "      <td>1.000000</td>\n",
              "    </tr>\n",
              "  </tbody>\n",
              "</table>\n",
              "</div>"
            ],
            "text/plain": [
              "       years_of_operation      principal  ...       Broker    Homeowner\n",
              "count         4709.000000    4709.000000  ...  4709.000000  4709.000000\n",
              "mean            10.649529  138240.356764  ...     0.305585     0.816946\n",
              "std              7.991417  104803.995393  ...     0.460704     0.386752\n",
              "min              0.000000   25000.000000  ...     0.000000     0.000000\n",
              "25%              5.000000   60000.000000  ...     0.000000     1.000000\n",
              "50%              8.600000  100000.000000  ...     0.000000     1.000000\n",
              "75%             13.800000  200000.000000  ...     1.000000     1.000000\n",
              "max             67.000000  500000.000000  ...     1.000000     1.000000\n",
              "\n",
              "[8 rows x 11 columns]"
            ]
          },
          "metadata": {
            "tags": []
          },
          "execution_count": 12
        }
      ]
    },
    {
      "cell_type": "code",
      "metadata": {
        "id": "oy5eczrBEkOv",
        "colab_type": "code",
        "colab": {}
      },
      "source": [
        "#dummy\n",
        "data = pd.get_dummies(data,columns=['credit_rating'],prefix=['credit_rating'],prefix_sep=\"_\",dummy_na=False,drop_first=False)\n",
        "data = pd.get_dummies(data,columns=['industry'],prefix=['industry'],prefix_sep=\"_\",dummy_na=False,drop_first=False)\n",
        "data = data.reset_index(drop=True)"
      ],
      "execution_count": 0,
      "outputs": []
    },
    {
      "cell_type": "code",
      "metadata": {
        "id": "pxBwYFmREkOy",
        "colab_type": "code",
        "colab": {}
      },
      "source": [
        "#split into train and test\n",
        "random.seed(110)\n",
        "train,test=train_test_split(data,test_size=0.3)\n",
        "train_y = train['status']\n",
        "train_x = train.drop(['status','state'],axis=1)\n",
        "test_y = test['status']\n",
        "test_x = test.drop(['status','state'],axis=1)"
      ],
      "execution_count": 0,
      "outputs": []
    },
    {
      "cell_type": "code",
      "metadata": {
        "id": "HaOfBLlXEkO2",
        "colab_type": "code",
        "outputId": "133b3121-937e-42d4-bca5-79b50ceb069c",
        "colab": {
          "base_uri": "https://localhost:8080/",
          "height": 89
        }
      },
      "source": [
        "#Logistic regression\n",
        "lm = LogisticRegression(solver='liblinear')\n",
        "lm.fit(train_x,train_y)\n",
        "predict_lm = lm.predict(test_x)\n",
        "accuracy_lm = accuracy_score(test_y, predict_lm)\n",
        "tn_lm, fp_lm, fn_lm, tp_lm = confusion_matrix(test_y, predict_lm).ravel()\n",
        "sensitivity_lm = tp_lm / (tp_lm+fn_lm)\n",
        "print(\"Accuracy is %s\" %accuracy_lm)\n",
        "print(\"Sensitivity is %s\" %sensitivity_lm)\n",
        "print(confusion_matrix(test_y, predict_lm))"
      ],
      "execution_count": 0,
      "outputs": [
        {
          "output_type": "stream",
          "text": [
            "Accuracy is 0.921443736730361\n",
            "Sensitivity is 0.043859649122807015\n",
            "[[1297    2]\n",
            " [ 109    5]]\n"
          ],
          "name": "stdout"
        }
      ]
    },
    {
      "cell_type": "code",
      "metadata": {
        "id": "UhhNskbpEkO6",
        "colab_type": "code",
        "outputId": "7bd25cff-28ce-4615-9974-28a0a2ae5140",
        "colab": {
          "base_uri": "https://localhost:8080/",
          "height": 283
        }
      },
      "source": [
        "#Logistic regression ROC\n",
        "fpr_lm,tpr_lm,thresholds = roc_curve(test_y, predict_lm,pos_label=1)\n",
        "auc_lm = round(auc(fpr_lm, tpr_lm),4)\n",
        "plt.plot(fpr_lm,tpr_lm,linewidth=2,label=\"ROC\")\n",
        "plt.xlabel(\"false presitive rate\")\n",
        "plt.ylabel(\"true presitive rate\")\n",
        "plt.ylim(0,1)\n",
        "plt.xlim(0,1)\n",
        "plt.plot([0, 1], [0, 1], '--', color=(0 , 0, 1))\n",
        "plt.legend(loc=4)\n",
        "plt.text(0.1,0.9,'AUC: %s' %auc_lm,fontdict={'size':'16','color':'b'})\n",
        "plt.show()"
      ],
      "execution_count": 0,
      "outputs": [
        {
          "output_type": "display_data",
          "data": {
            "image/png": "[encoded data removed]",
            "text/plain": [
              "<Figure size 432x288 with 1 Axes>"
            ]
          },
          "metadata": {
            "tags": []
          }
        }
      ]
    },
    {
      "cell_type": "code",
      "metadata": {
        "id": "ahonAT4fEkO8",
        "colab_type": "code",
        "outputId": "27482d29-7f19-4903-9d57-0837de61848f",
        "colab": {
          "base_uri": "https://localhost:8080/",
          "height": 89
        }
      },
      "source": [
        "#random forest\n",
        "rf = RandomForestClassifier(n_estimators=1000,random_state=110)\n",
        "rf.fit(train_x,train_y)\n",
        "predict_rf = rf.predict(test_x)\n",
        "accuracy_rf = accuracy_score(test_y, predict_rf)\n",
        "tn_rf, fp_rf, fn_rf, tp_rf = confusion_matrix(test_y, predict_rf).ravel()\n",
        "sensitivity_rf = tp_rf / (tp_rf+fn_rf)\n",
        "print(\"Accuracy is %s\" %accuracy_rf)\n",
        "print(\"Sensitivity is %s\" %sensitivity_rf)\n",
        "print(confusion_matrix(test_y, predict_rf))"
      ],
      "execution_count": 0,
      "outputs": [
        {
          "output_type": "stream",
          "text": [
            "Accuracy is 0.9249823071479123\n",
            "Sensitivity is 0.21929824561403508\n",
            "[[1282   17]\n",
            " [  89   25]]\n"
          ],
          "name": "stdout"
        }
      ]
    },
    {
      "cell_type": "code",
      "metadata": {
        "id": "9JIKDiPOEkO_",
        "colab_type": "code",
        "outputId": "d9ad504c-70da-4b92-bfdc-55a15312fe91",
        "colab": {
          "base_uri": "https://localhost:8080/",
          "height": 283
        }
      },
      "source": [
        "#random forest ROC\n",
        "fpr_rf,tpr_rf,thresholds = roc_curve(test_y, predict_rf,pos_label=1)\n",
        "auc_rf = round(auc(fpr_rf, tpr_rf),4)\n",
        "plt.plot(fpr_rf,tpr_rf,linewidth=2,label=\"ROC\")\n",
        "plt.xlabel(\"false presitive rate\")\n",
        "plt.ylabel(\"true presitive rate\")\n",
        "plt.ylim(0,1)\n",
        "plt.xlim(0,1)\n",
        "plt.plot([0, 1], [0, 1], '--', color=(0 , 0, 1))\n",
        "plt.legend(loc=4)\n",
        "plt.text(0.1,0.9,'AUC: %s' %auc_rf,fontdict={'size':'16','color':'b'})\n",
        "plt.show()"
      ],
      "execution_count": 0,
      "outputs": [
        {
          "output_type": "display_data",
          "data": {
            "image/png": "[encoded data removed]",
            "text/plain": [
              "<Figure size 432x288 with 1 Axes>"
            ]
          },
          "metadata": {
            "tags": []
          }
        }
      ]
    },
    {
      "cell_type": "code",
      "metadata": {
        "id": "QhivWGPmEkPB",
        "colab_type": "code",
        "outputId": "11bd72a3-5011-40fc-e03b-f39aaa2fc50a",
        "colab": {
          "base_uri": "https://localhost:8080/",
          "height": 89
        }
      },
      "source": [
        "#bagging\n",
        "tree = DecisionTreeClassifier(criterion='entropy', max_depth=None)\n",
        "bag = BaggingClassifier(base_estimator=tree, n_estimators=1000, max_samples=1.0, max_features=1.0, bootstrap=True, bootstrap_features=False, n_jobs=1)\n",
        "bag.fit(train_x,train_y)\n",
        "predict_bag = bag.predict(test_x)\n",
        "accuracy_bag = accuracy_score(test_y, predict_bag)\n",
        "tn_bag, fp_bag, fn_bag, tp_bag = confusion_matrix(test_y, predict_bag).ravel()\n",
        "sensitivity_bag = tp_bag / (tp_bag+fn_bag)\n",
        "print(\"Accuracy is %s\" %accuracy_bag)\n",
        "print(\"Sensitivity is %s\" %sensitivity_bag)\n",
        "print(confusion_matrix(test_y, predict_bag))"
      ],
      "execution_count": 0,
      "outputs": [
        {
          "output_type": "stream",
          "text": [
            "Accuracy is 0.9157820240622788\n",
            "Sensitivity is 0.21929824561403508\n",
            "[[1269   30]\n",
            " [  89   25]]\n"
          ],
          "name": "stdout"
        }
      ]
    },
    {
      "cell_type": "code",
      "metadata": {
        "id": "uJhHkgmWEkPD",
        "colab_type": "code",
        "outputId": "ba2fe5fe-7640-4c55-ef15-517b11dec780",
        "colab": {
          "base_uri": "https://localhost:8080/",
          "height": 283
        }
      },
      "source": [
        "#bagging ROC\n",
        "fpr_bag,tpr_bag,thresholds = roc_curve(test_y, predict_bag,pos_label=1)\n",
        "auc_bag = round(auc(fpr_bag, tpr_bag),4)\n",
        "plt.plot(fpr_bag,tpr_bag,linewidth=2,label=\"ROC\")\n",
        "plt.xlabel(\"false presitive rate\")\n",
        "plt.ylabel(\"true presitive rate\")\n",
        "plt.ylim(0,1)\n",
        "plt.xlim(0,1)\n",
        "plt.plot([0, 1], [0, 1], '--', color=(0 , 0, 1))\n",
        "plt.legend(loc=4)\n",
        "plt.text(0.1,0.9,'AUC: %s' %auc_bag,fontdict={'size':'16','color':'b'})\n",
        "plt.show()"
      ],
      "execution_count": 0,
      "outputs": [
        {
          "output_type": "display_data",
          "data": {
            "image/png": "[encoded data removed]",
            "text/plain": [
              "<Figure size 432x288 with 1 Axes>"
            ]
          },
          "metadata": {
            "tags": []
          }
        }
      ]
    },
    {
      "cell_type": "code",
      "metadata": {
        "id": "onL5PK4FEkPF",
        "colab_type": "code",
        "outputId": "590c5cc9-d4b7-4f08-bdd7-ace52b3c5a7e",
        "colab": {
          "base_uri": "https://localhost:8080/",
          "height": 89
        }
      },
      "source": [
        "#svm\n",
        "sv = svm.SVC(gamma='auto')\n",
        "sv.fit(train_x,train_y)\n",
        "predict_svm = sv.predict(test_x)\n",
        "accuracy_svm = accuracy_score(test_y, predict_svm)\n",
        "tn_svm, fp_svm, fn_svm, tp_svm = confusion_matrix(test_y, predict_svm).ravel()\n",
        "sensitivity_svm = tp_svm / (tp_svm+fn_svm)\n",
        "print(\"Accuracy is %s\" %accuracy_svm)\n",
        "print(\"Sensitivity is %s\" %sensitivity_svm)\n",
        "print(confusion_matrix(test_y, predict_svm))"
      ],
      "execution_count": 0,
      "outputs": [
        {
          "output_type": "stream",
          "text": [
            "Accuracy is 0.9193205944798302\n",
            "Sensitivity is 0.008771929824561403\n",
            "[[1298    1]\n",
            " [ 113    1]]\n"
          ],
          "name": "stdout"
        }
      ]
    },
    {
      "cell_type": "code",
      "metadata": {
        "id": "_5DqiUujEkPJ",
        "colab_type": "code",
        "outputId": "c0556b3b-5141-439a-e4a5-c3283b36ef16",
        "colab": {
          "base_uri": "https://localhost:8080/",
          "height": 283
        }
      },
      "source": [
        "#svm ROC\n",
        "fpr_svm,tpr_svm,thresholds = roc_curve(test_y, predict_svm,pos_label=1)\n",
        "auc_svm = round(auc(fpr_svm, tpr_svm),4)\n",
        "plt.plot(fpr_svm,tpr_svm,linewidth=2,label=\"ROC\")\n",
        "plt.xlabel(\"false presitive rate\")\n",
        "plt.ylabel(\"true presitive rate\")\n",
        "plt.ylim(0,1)\n",
        "plt.xlim(0,1)\n",
        "plt.plot([0, 1], [0, 1], '--', color=(0 , 0, 1))\n",
        "plt.legend(loc=4)\n",
        "plt.text(0.1,0.9,'AUC: %s' %auc_svm,fontdict={'size':'16','color':'b'})\n",
        "plt.show()"
      ],
      "execution_count": 0,
      "outputs": [
        {
          "output_type": "display_data",
          "data": {
            "image/png": "[encoded data removed]",
            "text/plain": [
              "<Figure size 432x288 with 1 Axes>"
            ]
          },
          "metadata": {
            "tags": []
          }
        }
      ]
    },
    {
      "cell_type": "code",
      "metadata": {
        "id": "92PVf5plEkPL",
        "colab_type": "code",
        "colab": {}
      },
      "source": [
        ""
      ],
      "execution_count": 0,
      "outputs": []
    },
    {
      "cell_type": "code",
      "metadata": {
        "id": "AO4H7s1zEkPN",
        "colab_type": "code",
        "colab": {}
      },
      "source": [
        ""
      ],
      "execution_count": 0,
      "outputs": []
    }
  ]
}